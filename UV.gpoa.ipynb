{
 "cells": [
  {
   "cell_type": "markdown",
   "id": "7902467e",
   "metadata": {},
   "source": [
    "# Uncovering the HML Factor"
   ]
  },
  {
   "cell_type": "markdown",
   "id": "a376ac40",
   "metadata": {},
   "source": [
    "The notebook demonstrates the decomposition approach towards uncovering the Fama-French HML factor (1993) built from the difference between high and low portfolios sorted with the book-to-market metric. Following the incremental methodology, the example focuses on the top 50% of stocks based on market cap. Considering the low (growth) and high (value) assets as winners and losers, the approach transparently describes the Big HML factor as a sampling of stocks based on the GPOA (gross profit on assets) fundamental characteristic.\n",
    "\n",
    "The notebook is structured as follows:\n",
    "<ol>\n",
    "    <li><a href='#section1'>Loading Sharadar Data</a></li>\n",
    "    <li><a href='#section2'>Data Post-Processing</a></li>\n",
    "    <li><a href='#section3'>Building the Big HML Value and Growth Portfolios</a></li>\n",
    "    <li><a href='#section4'>Benchmarking Portfolios with French Data Library </a></li>\n",
    "    <li><a href='#section5'>Loading and Post-Processing Sharadar Fundamentals </a></li>\n",
    "    <li><a href='#section6'>Decomposing Big HML into High and Low GPOA </a></li>\n",
    "<ol>"
   ]
  },
  {
   "cell_type": "code",
   "execution_count": 1,
   "id": "cbf23ff0",
   "metadata": {},
   "outputs": [],
   "source": [
    "import os\n",
    "import time\n",
    "import numpy as np\n",
    "import pandas as pd\n",
    "\n",
    "import matplotlib.pyplot as plt\n",
    "%matplotlib inline"
   ]
  },
  {
   "cell_type": "code",
   "execution_count": 2,
   "id": "1614e0dc",
   "metadata": {},
   "outputs": [],
   "source": [
    "import uv"
   ]
  },
  {
   "cell_type": "markdown",
   "id": "53e7509a",
   "metadata": {},
   "source": [
    "<a id='section1'></a>\n",
    "## 1. Loading Sharadar Data"
   ]
  },
  {
   "cell_type": "markdown",
   "id": "b2e8b5e3",
   "metadata": {},
   "source": [
    "The Sharadar data bundle encompasses several datasets such as company metadata, equity and fund prices, action events, fundamentals, and others. The corresponding data can be downloaded from the [Nasdaq Data Link](https://data.nasdaq.com/publishers/SHARADAR). The implementation of the Fama-French HML factor requires three files: Tickers, Sharadar Equity Prices (SEP), and Daily Metrics of Core Fundamentals Data."
   ]
  },
  {
   "cell_type": "code",
   "execution_count": 3,
   "id": "261ed4e9",
   "metadata": {},
   "outputs": [],
   "source": [
    "# To facilitate this example, the Sharadar files are moved into the notebooks directory and renamed accordingly.\n",
    "bundle_dir = './'"
   ]
  },
  {
   "cell_type": "markdown",
   "id": "fa236c1c",
   "metadata": {},
   "source": [
    "### 1.1 Reading the Tickers file"
   ]
  },
  {
   "cell_type": "markdown",
   "id": "8a6edf1e",
   "metadata": {},
   "source": [
    "The tickers file encompasses meta-data including the ticker symbol, issuer name, stock exchange, issuer category, sic codes, and others. In addition, the corresponding table maintains the Sharadar permaticker, a unique and unchanging stock identifier (sid). The following code reads this file and select the sids of domestic common stocks for building the HML factor. "
   ]
  },
  {
   "cell_type": "code",
   "execution_count": 4,
   "id": "69bcf669",
   "metadata": {},
   "outputs": [
    {
     "name": "stdout",
     "output_type": "stream",
     "text": [
      "common stocks: 15315\n"
     ]
    }
   ],
   "source": [
    "tickers_file = bundle_dir + \"SHARADAR_TICKERS.csv\"\n",
    "tickers_df = pd.read_csv(tickers_file, usecols=['permaticker', 'ticker', 'category', 'exchange'])\n",
    "\n",
    "# selecting domestic common stocks\n",
    "categories = [\"Domestic Common Stock\", 'Domestic Common Stock Primary Class', \n",
    "              'Domestic Common Stock Secondary Class']\n",
    "\n",
    "tickers_df = tickers_df[tickers_df.category.isin(categories)]\n",
    "print('common stocks:', len(tickers_df.permaticker.unique()))"
   ]
  },
  {
   "cell_type": "markdown",
   "id": "fbb12a9e",
   "metadata": {},
   "source": [
    "### 1.2 Reading the SEP (Sharadar Equity Prices) file"
   ]
  },
  {
   "cell_type": "markdown",
   "id": "10dfa2b9",
   "metadata": {},
   "source": [
    "The SEP file contains the daily split-adjusted  OHLC (Open, High, Low, Close) prices and volume data. In addition, it includes the unadjusted and adjusted closing prices that are used in this study. "
   ]
  },
  {
   "cell_type": "code",
   "execution_count": 5,
   "id": "83f74736",
   "metadata": {},
   "outputs": [
    {
     "name": "stdout",
     "output_type": "stream",
     "text": [
      "common stocks: 15307\n",
      "CPU times: user 36.7 s, sys: 6.14 s, total: 42.8 s\n",
      "Wall time: 44.4 s\n"
     ]
    }
   ],
   "source": [
    "%%time\n",
    "\n",
    "sep_file = bundle_dir + \"SHARADAR_SEP.csv\"\n",
    "sep_tags = ['close', 'closeadj', 'closeunadj']\n",
    "sep_df = uv.read_data_file(sep_file, tickers_df, date_tags=['date'], data_tags=sep_tags)\n",
    "\n",
    "print('common stocks:', len(sep_df.sid.unique()))"
   ]
  },
  {
   "cell_type": "markdown",
   "id": "97a8e477",
   "metadata": {},
   "source": [
    "### 1.3  Reading the Daily Metrics of Core Fundamentals Data"
   ]
  },
  {
   "cell_type": "markdown",
   "id": "aeaaf655",
   "metadata": {},
   "source": [
    "The present version of the Sharadar Daily Core Metrics includes the enterprise value (ev), market capitalization (marketcap), and several price-to-fundamentals ratios. The study retrieves the marketcap and price-to-book (pb) ratio. "
   ]
  },
  {
   "cell_type": "code",
   "execution_count": 6,
   "id": "034415e1",
   "metadata": {},
   "outputs": [
    {
     "name": "stdout",
     "output_type": "stream",
     "text": [
      "common stocks: 14135\n",
      "CPU times: user 29.3 s, sys: 4.34 s, total: 33.7 s\n",
      "Wall time: 34.3 s\n"
     ]
    }
   ],
   "source": [
    "%%time\n",
    "\n",
    "daily_file = bundle_dir + \"SHARADAR_DAILY.csv\"\n",
    "daily_tags = ['marketcap', 'pb']\n",
    "daily_df = uv.read_data_file(daily_file, tickers_df, date_tags=['date'], data_tags=daily_tags)\n",
    "\n",
    "print('common stocks:', len(daily_df.sid.unique()))"
   ]
  },
  {
   "cell_type": "markdown",
   "id": "667c29df",
   "metadata": {},
   "source": [
    "### 1.4 Selecting the Time Interval and Merging Two Datasets"
   ]
  },
  {
   "cell_type": "markdown",
   "id": "f33c43cb",
   "metadata": {},
   "source": [
    "Defining time interval and session business dates"
   ]
  },
  {
   "cell_type": "code",
   "execution_count": 7,
   "id": "65398837",
   "metadata": {},
   "outputs": [],
   "source": [
    "start_date, end_date = '2002-12-31', '2020-12-31'\n",
    "session_dates = uv.get_sessions(start_date, end_date)"
   ]
  },
  {
   "cell_type": "markdown",
   "id": "1121793e",
   "metadata": {},
   "source": [
    "Selecting session dates"
   ]
  },
  {
   "cell_type": "code",
   "execution_count": 8,
   "id": "ac88cbe9",
   "metadata": {},
   "outputs": [],
   "source": [
    "sep_df = sep_df[sep_df.date.isin(session_dates)]\n",
    "daily_df = daily_df[daily_df.date.isin(session_dates)]"
   ]
  },
  {
   "cell_type": "markdown",
   "id": "fbd3e20f",
   "metadata": {},
   "source": [
    "Merging two datasets"
   ]
  },
  {
   "cell_type": "code",
   "execution_count": 9,
   "id": "d01797e6",
   "metadata": {},
   "outputs": [
    {
     "name": "stdout",
     "output_type": "stream",
     "text": [
      "selected stocks: 10584\n"
     ]
    }
   ],
   "source": [
    "data_df = pd.merge(sep_df, daily_df[['date', 'sid', 'marketcap', 'pb']], how='inner', on=['date', 'sid'])\n",
    "print('selected stocks:', len(data_df.sid.unique()))"
   ]
  },
  {
   "cell_type": "markdown",
   "id": "f522322b",
   "metadata": {},
   "source": [
    "<a id='section2'></a>\n",
    "## 2. Data Post-Processing"
   ]
  },
  {
   "cell_type": "markdown",
   "id": "67ba9779",
   "metadata": {},
   "source": [
    "Data post-processing follows the corresponding step in the study on Uncovering Momentum conducted on the Zipline-based algorithmic trading research platform. Within this platform, the historical data are propagated with the\n",
    "custom collection of cross-sectional trailing-window tasks (Factors, Classifiers, and Filters) and subsequently post-processed with additional modules, like Alphalens. The previous section already retrieved the historical data directly from the files. Therefore, the post-processing procedure begins with defining the stock universe and building the multi-index data frame produced from the Zipline pipeline. The next steps are common for both examples: retrieving adjusted prices, adding forward returns, and computing the factor deciles."
   ]
  },
  {
   "cell_type": "markdown",
   "id": "5b9b50d5",
   "metadata": {},
   "source": [
    "### 2.1 Defining the Stock Universe"
   ]
  },
  {
   "cell_type": "markdown",
   "id": "16a760fe",
   "metadata": {},
   "source": [
    "The stock universe is defined after the Quantopian TradableStocksUS version that selects domestic common stocks with market cap bigger than 350 million and closing price higher than 5 per share."
   ]
  },
  {
   "cell_type": "code",
   "execution_count": 10,
   "id": "40049391",
   "metadata": {},
   "outputs": [
    {
     "name": "stdout",
     "output_type": "stream",
     "text": [
      "selected stocks: 6590\n"
     ]
    }
   ],
   "source": [
    "# marketcap > 350 M dollars\n",
    "data_df = data_df[data_df.marketcap > 350.0]\n",
    "\n",
    "# stock price > 5 dollars\n",
    "data_df = data_df[data_df.closeunadj > 5]\n",
    "\n",
    "print('selected stocks:', len(data_df.sid.unique()))"
   ]
  },
  {
   "cell_type": "markdown",
   "id": "e4cc6c9b",
   "metadata": {},
   "source": [
    "### 2.2 Building the Zipline-like Multi-Index Pipe Output"
   ]
  },
  {
   "cell_type": "markdown",
   "id": "fea913ff",
   "metadata": {},
   "source": [
    "A data frame is constructed to resemble the Zipline-like multi-index (date and stock) pipeline output and consists of the marketcap and book-to-price (bp) features. A diagram then summarizes the number of tickers across time of each feature. Subsequently, the missing data is dropped from the data frame."
   ]
  },
  {
   "cell_type": "code",
   "execution_count": 11,
   "id": "3be7ab4d",
   "metadata": {},
   "outputs": [],
   "source": [
    "pipe_df = data_df.set_index(['date', 'sid'])[['marketcap', 'pb']]\n",
    "pipe_df.sort_index(level=0, ascending=True, inplace=True)\n",
    "\n",
    "# Calculating book-to-price\n",
    "pipe_df['bp'] = 1./pipe_df['pb']"
   ]
  },
  {
   "cell_type": "code",
   "execution_count": 12,
   "id": "e326070f",
   "metadata": {},
   "outputs": [
    {
     "data": {
      "image/png": "[encoded data removed]",
      "text/plain": [
       "<Figure size 648x288 with 1 Axes>"
      ]
     },
     "metadata": {
      "needs_background": "light"
     },
     "output_type": "display_data"
    }
   ],
   "source": [
    "pipe_df.groupby(level=0)[['marketcap', 'bp']].count().plot(figsize=(9, 4), color=['blue','green'])\n",
    "plt.xlabel('Days')\n",
    "plt.ylabel('Number of Tickers')\n",
    "plt.margins(x=0)\n",
    "plt.show()"
   ]
  },
  {
   "cell_type": "code",
   "execution_count": 13,
   "id": "2ff4e393",
   "metadata": {},
   "outputs": [],
   "source": [
    "pipe_df.dropna(inplace=True)"
   ]
  },
  {
   "cell_type": "markdown",
   "id": "ccb36e67",
   "metadata": {},
   "source": [
    "### 2.3 Retrieving Adjusted Prices for Selected Stocks"
   ]
  },
  {
   "cell_type": "markdown",
   "id": "cdbae577",
   "metadata": {},
   "source": [
    "With the fundamentals selected, the adjusted close price data is retrieved for the specified stocks and time horizon."
   ]
  },
  {
   "cell_type": "code",
   "execution_count": 14,
   "id": "a2252fb9",
   "metadata": {},
   "outputs": [],
   "source": [
    "pipe_sids = pipe_df.index.get_level_values(1).unique()\n",
    "prices_df = sep_df.set_index(['date', 'sid'])['closeadj'].unstack()\n",
    "prices_df = prices_df[pipe_sids]"
   ]
  },
  {
   "cell_type": "markdown",
   "id": "a2f16ced",
   "metadata": {},
   "source": [
    "### 2.4 Adding Forward Returns and Deciles"
   ]
  },
  {
   "cell_type": "markdown",
   "id": "3605de10",
   "metadata": {},
   "source": [
    "This step is based on the Alphalens module for post-processing performance analysis of the Zipline pipeline data frame. Specifically, it computes cross-sectional deciles for two variables (bp and marketcap) and calculates \n",
    "forward returns for two periods: one day and one month (21 business days)."
   ]
  },
  {
   "cell_type": "code",
   "execution_count": 15,
   "id": "67a65d97",
   "metadata": {},
   "outputs": [],
   "source": [
    "import alphalens as al"
   ]
  },
  {
   "cell_type": "code",
   "execution_count": 16,
   "id": "f6a494a1",
   "metadata": {},
   "outputs": [
    {
     "name": "stdout",
     "output_type": "stream",
     "text": [
      "Dropped 0.5% entries from factor data: 0.5% in forward returns computation and 0.0% in binning phase (set max_loss=0 to see potentially suppressed Exceptions).\n",
      "max_loss is 35.0%, not exceeded: OK!\n",
      "CPU times: user 2min 45s, sys: 12.1 s, total: 2min 57s\n",
      "Wall time: 2min 58s\n"
     ]
    }
   ],
   "source": [
    "%%time\n",
    "data_mi = al.utils.get_clean_factor_and_forward_returns(factor=pipe_df['bp'], \n",
    "                                                         prices=prices_df, \n",
    "                                                         quantiles=10,\n",
    "                                                         periods=(1, 21))\n",
    "data_mi.rename(columns={'factor': 'bp', 'factor_quantile': 'bp_decile'}, inplace=True)\n",
    "data_mi.drop(['1D'], axis=1, inplace=True)"
   ]
  },
  {
   "cell_type": "code",
   "execution_count": 17,
   "id": "541dd088",
   "metadata": {},
   "outputs": [
    {
     "name": "stdout",
     "output_type": "stream",
     "text": [
      "Dropped 0.5% entries from factor data: 0.5% in forward returns computation and 0.0% in binning phase (set max_loss=0 to see potentially suppressed Exceptions).\n",
      "max_loss is 35.0%, not exceeded: OK!\n",
      "CPU times: user 1min 26s, sys: 9.79 s, total: 1min 36s\n",
      "Wall time: 1min 36s\n"
     ]
    }
   ],
   "source": [
    "%%time\n",
    "cap_data = al.utils.get_clean_factor_and_forward_returns(factor=pipe_df['marketcap'], \n",
    "                                                         prices=prices_df, \n",
    "                                                         quantiles=10,\n",
    "                                                         periods=(1, 21))\n",
    "cap_data.rename(columns={'factor': 'cap', 'factor_quantile': 'cap_decile'}, inplace=True)\n",
    "cap_data.drop(['1D', '21D'], axis=1, inplace=True)"
   ]
  },
  {
   "cell_type": "markdown",
   "id": "efffd1c6",
   "metadata": {},
   "source": [
    "Merging two data frames"
   ]
  },
  {
   "cell_type": "code",
   "execution_count": 18,
   "id": "be7dbead",
   "metadata": {},
   "outputs": [
    {
     "name": "stdout",
     "output_type": "stream",
     "text": [
      "CPU times: user 1min 8s, sys: 8.2 s, total: 1min 16s\n",
      "Wall time: 1min 19s\n"
     ]
    }
   ],
   "source": [
    "%%time\n",
    "\n",
    "data_mi = pd.merge(data_mi, cap_data, left_index=True, right_index=True)\n",
    "data_df = data_mi.reset_index()"
   ]
  },
  {
   "cell_type": "markdown",
   "id": "f78cfd4d",
   "metadata": {},
   "source": [
    "<a id='section3'></a>\n",
    "## 3. Building the Big HML Value and Growth Portfolios"
   ]
  },
  {
   "cell_type": "markdown",
   "id": "9136708f",
   "metadata": {},
   "source": [
    "According to the Fama-French paper (1993), the HML factor is built from the intersection of 2x3 portfolios sorted on size and book-to-market characteristics. Specifically, the two (big and small) size-related portfolios are determined by the median NYSE size. The three book-to-market portfolios are based on the breakpoints for the bottom 30% (low), middle 40% (medium) and top 30% (high) of ranked values for NYSE stocks. The corresponding portfolios are formed at the end of the year and rebalanced annually in June. \n",
    "\n",
    "This notebook follows the above guidance with the exception that portfolio breakpoints are determined from all stocks traded across the different exchanges. "
   ]
  },
  {
   "cell_type": "code",
   "execution_count": 19,
   "id": "00e4fb2c",
   "metadata": {},
   "outputs": [],
   "source": [
    "data_df['year'] = data_df['date'].dt.year\n",
    "data_df['month'] = data_df['date'].dt.month"
   ]
  },
  {
   "cell_type": "markdown",
   "id": "0330ace2",
   "metadata": {},
   "source": [
    "### 3.1 Selecting End-Of-Year Fundamentals Deciles"
   ]
  },
  {
   "cell_type": "markdown",
   "id": "80c19442",
   "metadata": {},
   "source": [
    "Following the HML annual rebalancing procedure, the first data frame with the marketcap and book-to-market deciles is built from the daily data by selecting the last entry of the year."
   ]
  },
  {
   "cell_type": "code",
   "execution_count": 20,
   "id": "51153483",
   "metadata": {},
   "outputs": [
    {
     "name": "stdout",
     "output_type": "stream",
     "text": [
      "CPU times: user 1.11 s, sys: 817 ms, total: 1.93 s\n",
      "Wall time: 2.08 s\n"
     ]
    }
   ],
   "source": [
    "%%time\n",
    "features_eoy = data_df.set_index(['asset', 'year']).groupby(['asset', 'year']).last().reset_index()"
   ]
  },
  {
   "cell_type": "markdown",
   "id": "a2538248",
   "metadata": {},
   "source": [
    "### 3.2 Selecting Monthly Returns"
   ]
  },
  {
   "cell_type": "markdown",
   "id": "250c4e67",
   "metadata": {},
   "source": [
    "The second data frame with the monthly returns is obtained by downsampling the daily data and winsorizing.\n"
   ]
  },
  {
   "cell_type": "code",
   "execution_count": 21,
   "id": "21e4c983",
   "metadata": {},
   "outputs": [],
   "source": [
    "days = data_df.date.unique()\n",
    "d21s = days[::21][:-1]\n",
    "d21s = [pd.Timestamp(x) for x in d21s]\n",
    "data_d21 = data_df[data_df.date.isin(d21s)]"
   ]
  },
  {
   "cell_type": "code",
   "execution_count": 22,
   "id": "f5c590e0",
   "metadata": {},
   "outputs": [],
   "source": [
    "from scipy.stats.mstats import winsorize\n",
    "\n",
    "x = winsorize(data_d21['21D'].values, limits=[0.01, 0.01])\n",
    "data_d21 = data_d21[(data_d21['21D'] > min(x)) & (data_d21['21D'] < max(x))]"
   ]
  },
  {
   "cell_type": "markdown",
   "id": "fa53b320",
   "metadata": {},
   "source": [
    "### 3.3 Merging Monthly Returns with End-Of-Year Fundamental Features"
   ]
  },
  {
   "cell_type": "markdown",
   "id": "49ca10ca",
   "metadata": {},
   "source": [
    "For implementing the annual June rebalancing, both data frames are merged on the new *ffdate* shifted from the conventional year by six months."
   ]
  },
  {
   "cell_type": "code",
   "execution_count": 23,
   "id": "3242ac26",
   "metadata": {},
   "outputs": [
    {
     "name": "stdout",
     "output_type": "stream",
     "text": [
      "CPU times: user 121 ms, sys: 39.4 ms, total: 161 ms\n",
      "Wall time: 170 ms\n"
     ]
    }
   ],
   "source": [
    "%%time\n",
    "from pandas.tseries.offsets import MonthEnd\n",
    "\n",
    "data_d21['ffdate'] = data_d21['date'] + MonthEnd(-6) \n",
    "data_d21['ffyear'] = data_d21['ffdate'].dt.year\n",
    "\n",
    "features_eoy['ffyear'] = features_eoy['date'].dt.year + 1\n",
    "\n",
    "combo_d21 = pd.merge(data_d21[['date', 'asset', 'ffyear', '21D', 'cap']], \n",
    "                     features_eoy[['asset', 'ffyear', 'bp_decile', 'cap_decile']],\n",
    "                     how='left', on=['asset','ffyear'])\n",
    "\n",
    "combo_d21.dropna(inplace=True)"
   ]
  },
  {
   "cell_type": "markdown",
   "id": "11f1e15d",
   "metadata": {},
   "source": [
    "### 3.4 Constructing the Big HML Value and Growth  Portfolios"
   ]
  },
  {
   "cell_type": "markdown",
   "id": "8743c8a2",
   "metadata": {},
   "source": [
    "Following the incremental methodology, the example focuses on the top 50% of stocks based on market cap. Then, the corresponding value-weighted value and growth portfolios of the Big HML factor are built from the three top and low book-to-market deciles, respectively. "
   ]
  },
  {
   "cell_type": "code",
   "execution_count": 24,
   "id": "038a88b2",
   "metadata": {},
   "outputs": [],
   "source": [
    "combo_d21_mi = combo_d21.set_index(['date', 'asset'])\n",
    "\n",
    "uv_df = pd.DataFrame()\n",
    "\n",
    "bv_query = 'cap_decile > 5 and bp_decile > 7'\n",
    "uv_df['BIG Value'] = combo_d21_mi.query(bv_query).groupby('date').apply(lambda x: uv.get_vw_rtn(x))\n",
    "\n",
    "bg_query = 'cap_decile > 5 and bp_decile < 4'\n",
    "uv_df['BIG Growth'] = combo_d21_mi.query(bg_query).groupby('date').apply(lambda x: uv.get_vw_rtn(x))"
   ]
  },
  {
   "cell_type": "markdown",
   "id": "ad802fee",
   "metadata": {},
   "source": [
    "<a id='section4'></a>\n",
    "## 4. Benchmarking Portfolios with French Data Library"
   ]
  },
  {
   "cell_type": "markdown",
   "id": "c1448142",
   "metadata": {},
   "source": [
    "As demonstrated by the previous sections, building the HML portfolios involves several datasets and post-processing transformations. Therefore, prior to the decomposition analysis, the corresponding results need to be tested with the conventional benchmark portfolios maintained and available on the [French Data Library](https://mba.tuck.dartmouth.edu/pages/faculty/ken.french/data_library.html). "
   ]
  },
  {
   "cell_type": "markdown",
   "id": "79a20921",
   "metadata": {},
   "source": [
    "### 4.1 Loading the HML Portfolios from French Data Library"
   ]
  },
  {
   "cell_type": "markdown",
   "id": "951853a3",
   "metadata": {},
   "source": [
    "In Python, the datasets from the French Data Library can be imported with the pandas-datareader module. The HML factor of the three-factor model (1993) and related 2x3 portfolios are located in the 'F-F_Research_Data_Factors' and '6_Portfolios_2x3' datasets, respectively."
   ]
  },
  {
   "cell_type": "code",
   "execution_count": 25,
   "id": "a7f127a5",
   "metadata": {},
   "outputs": [],
   "source": [
    "import pandas_datareader.data as web\n",
    "\n",
    "ff_factors_dataset = 'F-F_Research_Data_Factors'\n",
    "factors_df = web.DataReader(ff_factors_dataset, 'famafrench', start=start_date, end=end_date)[0]\n",
    "\n",
    "ff_portf_dataset = '6_Portfolios_2x3'\n",
    "portfolios_df = web.DataReader(ff_portf_dataset, 'famafrench', start=start_date, end=end_date)[0]\n",
    "\n",
    "ff_df = factors_df.join(portfolios_df)\n",
    "ff_df['Mkt'] = ff_df['Mkt-RF'] + ff_df['RF']"
   ]
  },
  {
   "cell_type": "code",
   "execution_count": 26,
   "id": "7b785acb",
   "metadata": {},
   "outputs": [
    {
     "data": {
      "text/html": [
       "<div>\n",
       "<style scoped>\n",
       "    .dataframe tbody tr th:only-of-type {\n",
       "        vertical-align: middle;\n",
       "    }\n",
       "\n",
       "    .dataframe tbody tr th {\n",
       "        vertical-align: top;\n",
       "    }\n",
       "\n",
       "    .dataframe thead th {\n",
       "        text-align: right;\n",
       "    }\n",
       "</style>\n",
       "<table border=\"1\" class=\"dataframe\">\n",
       "  <thead>\n",
       "    <tr style=\"text-align: right;\">\n",
       "      <th></th>\n",
       "      <th>Mkt-RF</th>\n",
       "      <th>SMB</th>\n",
       "      <th>HML</th>\n",
       "      <th>RF</th>\n",
       "      <th>SMALL LoBM</th>\n",
       "      <th>ME1 BM2</th>\n",
       "      <th>SMALL HiBM</th>\n",
       "      <th>BIG LoBM</th>\n",
       "      <th>ME2 BM2</th>\n",
       "      <th>BIG HiBM</th>\n",
       "      <th>Mkt</th>\n",
       "    </tr>\n",
       "    <tr>\n",
       "      <th>Date</th>\n",
       "      <th></th>\n",
       "      <th></th>\n",
       "      <th></th>\n",
       "      <th></th>\n",
       "      <th></th>\n",
       "      <th></th>\n",
       "      <th></th>\n",
       "      <th></th>\n",
       "      <th></th>\n",
       "      <th></th>\n",
       "      <th></th>\n",
       "    </tr>\n",
       "  </thead>\n",
       "  <tbody>\n",
       "    <tr>\n",
       "      <th>2002-12</th>\n",
       "      <td>-5.76</td>\n",
       "      <td>0.11</td>\n",
       "      <td>2.13</td>\n",
       "      <td>0.11</td>\n",
       "      <td>-8.6410</td>\n",
       "      <td>-4.6250</td>\n",
       "      <td>-3.5705</td>\n",
       "      <td>-6.1733</td>\n",
       "      <td>-3.9949</td>\n",
       "      <td>-6.9854</td>\n",
       "      <td>-5.65</td>\n",
       "    </tr>\n",
       "    <tr>\n",
       "      <th>2003-01</th>\n",
       "      <td>-2.57</td>\n",
       "      <td>1.30</td>\n",
       "      <td>-0.73</td>\n",
       "      <td>0.10</td>\n",
       "      <td>-2.4753</td>\n",
       "      <td>-2.5878</td>\n",
       "      <td>-1.2317</td>\n",
       "      <td>-2.8330</td>\n",
       "      <td>-1.8158</td>\n",
       "      <td>-5.5412</td>\n",
       "      <td>-2.47</td>\n",
       "    </tr>\n",
       "  </tbody>\n",
       "</table>\n",
       "</div>"
      ],
      "text/plain": [
       "         Mkt-RF   SMB   HML    RF  SMALL LoBM  ME1 BM2  SMALL HiBM  BIG LoBM  \\\n",
       "Date                                                                           \n",
       "2002-12   -5.76  0.11  2.13  0.11     -8.6410  -4.6250     -3.5705   -6.1733   \n",
       "2003-01   -2.57  1.30 -0.73  0.10     -2.4753  -2.5878     -1.2317   -2.8330   \n",
       "\n",
       "         ME2 BM2  BIG HiBM   Mkt  \n",
       "Date                              \n",
       "2002-12  -3.9949   -6.9854 -5.65  \n",
       "2003-01  -1.8158   -5.5412 -2.47  "
      ]
     },
     "execution_count": 26,
     "metadata": {},
     "output_type": "execute_result"
    }
   ],
   "source": [
    "ff_df.head(2)"
   ]
  },
  {
   "cell_type": "markdown",
   "id": "1054555f",
   "metadata": {},
   "source": [
    "### 4.2 Benchmarking Cumulative Returns"
   ]
  },
  {
   "cell_type": "markdown",
   "id": "30b67c6e",
   "metadata": {},
   "source": [
    "The figures below demonstrates the comparison of cumulative returns between portfolios produced by this notebook (BIG Growth and BIG Value) and the conventional benchmark from the French Data Library (BIG LoBM and BIG HiBM). "
   ]
  },
  {
   "cell_type": "code",
   "execution_count": 27,
   "id": "520a4658",
   "metadata": {},
   "outputs": [],
   "source": [
    "dfs = [ff_df['Mkt']*0.01, \n",
    "       ff_df['BIG LoBM']*0.01, uv_df['BIG Growth'], \n",
    "       ff_df['BIG HiBM']*0.01, uv_df['BIG Value']]\n",
    "\n",
    "colors = ['y', 'g', 'lime', 'b', 'c']\n",
    "labels = ['Mkt', 'BIG LoBM (Benchmark)', 'BIG Growth', 'BIG HiBM (Benchmark)', 'BIG Value']"
   ]
  },
  {
   "cell_type": "code",
   "execution_count": 28,
   "id": "72a11418",
   "metadata": {},
   "outputs": [
    {
     "data": {
      "text/plain": [
       "Text(0, 0.5, 'Cumulative Return')"
      ]
     },
     "execution_count": 28,
     "metadata": {},
     "output_type": "execute_result"
    },
    {
     "data": {
      "image/png": "[encoded data removed]",
      "text/plain": [
       "<Figure size 720x288 with 1 Axes>"
      ]
     },
     "metadata": {
      "needs_background": "light"
     },
     "output_type": "display_data"
    }
   ],
   "source": [
    "t1 = uv_df.index[0]; t2 = uv_df.index[-1]\n",
    "\n",
    "fig = plt.figure(figsize=(10, 4))\n",
    "for i in range(0, len(dfs)):\n",
    "    ((1 + (dfs[i].loc[t1: t2])).cumprod()-1).plot(color=colors[i], label=labels[i])  \n",
    "plt.legend(loc='best')\n",
    "plt.ylabel('Cumulative Return')"
   ]
  },
  {
   "cell_type": "markdown",
   "id": "e867107b",
   "metadata": {},
   "source": [
    "The results indeed confirm the successful replication of the Big HML portfolios with the Sharadar data and bless the study with continuing to the stock-level decomposition analysis based on fundamental characteristics. "
   ]
  },
  {
   "cell_type": "markdown",
   "id": "d034eaf7",
   "metadata": {},
   "source": [
    "<a id='section5'></a>\n",
    "## 5. Loading and Post-Processing Sharadar Fundamentals"
   ]
  },
  {
   "cell_type": "markdown",
   "id": "2f6b53f4",
   "metadata": {},
   "source": [
    "Having established the premise for replicating the value and growth portfolios, the notebook transitions to a stock-level decomposition analysis for explaining the difference in their performance demonstrated in the previous figure. Considering the growth and value assets as winners and losers, the following decomposition step explicitly connects this analysis with the related topics, such as quality and profitability of assets. After selecting the top referenced characterics (e.g, return on equity, asset growth, etc), the feature importance analysis conducted within the gradient boosting tree identified GPOA (gross profit on assets) as the primary fundamental characteristic."
   ]
  },
  {
   "cell_type": "markdown",
   "id": "8112bb5c",
   "metadata": {},
   "source": [
    "### 5.1 Reading the SF1 file and selecting quarterly data"
   ]
  },
  {
   "cell_type": "markdown",
   "id": "385ece94",
   "metadata": {},
   "source": [
    "The Sharadar data bundle includes the SF1 dataset with a long list of fundamental characteristics extracted from 10-K and 10-Q reports. Based on the results of the feature importance analysis, this notebook retrieves gross profit (gp) as the primary profitability characteristic. In addition, assets, liability and equity are loaded for identifying assets with a mismatch between equity and assets-liabilities. "
   ]
  },
  {
   "cell_type": "code",
   "execution_count": 29,
   "id": "44641e8d",
   "metadata": {},
   "outputs": [
    {
     "name": "stdout",
     "output_type": "stream",
     "text": [
      "selected stocks: 6567\n",
      "CPU times: user 13.9 s, sys: 517 ms, total: 14.4 s\n",
      "Wall time: 14.6 s\n"
     ]
    }
   ],
   "source": [
    "%%time\n",
    "\n",
    "sf1_file = bundle_dir + \"SHARADAR_SF1.csv\"\n",
    "sf1_tags = ['dimension', 'assets', 'liabilities', 'equity',  'gp']\n",
    "sf1_df = uv.read_data_file(sf1_file, tickers_df, date_tags=['reportperiod'], data_tags=sf1_tags)\n",
    "\n",
    "# selecting quartely data\n",
    "sf1_df = sf1_df.query('dimension == \"ARQ\"')\n",
    "\n",
    "# selecting pipe sids\n",
    "sf1_df = sf1_df[sf1_df.sid.isin(pipe_sids)]\n",
    "\n",
    "# selecting time interval\n",
    "sf1_df = sf1_df[sf1_df.reportperiod >= start_date]\n",
    "sf1_df = sf1_df[sf1_df.reportperiod <= end_date]\n",
    "\n",
    "print('selected stocks:', len(sf1_df.sid.unique()))"
   ]
  },
  {
   "cell_type": "markdown",
   "id": "91684610",
   "metadata": {},
   "source": [
    "### 5.2 Selecting End of Year Data"
   ]
  },
  {
   "cell_type": "markdown",
   "id": "569e3138",
   "metadata": {},
   "source": [
    "Identifying and then selecting the entries representing the end of year data."
   ]
  },
  {
   "cell_type": "code",
   "execution_count": 30,
   "id": "daa67eca",
   "metadata": {},
   "outputs": [
    {
     "name": "stdout",
     "output_type": "stream",
     "text": [
      "CPU times: user 89.3 ms, sys: 12.3 ms, total: 102 ms\n",
      "Wall time: 99.7 ms\n"
     ]
    }
   ],
   "source": [
    "%%time\n",
    "\n",
    "sf1_df['year'] = sf1_df['reportperiod'].dt.year\n",
    "sf1_df['month'] = sf1_df['reportperiod'].dt.month\n",
    "\n",
    "sf1_eoy = sf1_df.set_index(['sid', 'year']).groupby(['sid', 'year']).last().reset_index()\n",
    "\n",
    "sf1_eoy = sf1_eoy.query('month > 9')"
   ]
  },
  {
   "cell_type": "markdown",
   "id": "597e245a",
   "metadata": {},
   "source": [
    "### 5.3 Adding New Attributes"
   ]
  },
  {
   "cell_type": "markdown",
   "id": "c5169ad7",
   "metadata": {},
   "source": [
    "Adding new ratios of interest: equity ratio and and gross profits on assets (gpoa). "
   ]
  },
  {
   "cell_type": "code",
   "execution_count": 31,
   "id": "87f68399",
   "metadata": {},
   "outputs": [],
   "source": [
    "sf1_eoy['total_equity'] = sf1_eoy['assets'] - sf1_eoy['liabilities']\n",
    "sf1_eoy['equity_ratio'] = sf1_eoy['equity']/sf1_eoy['total_equity']\n",
    "\n",
    "sf1_eoy['gpoa'] = sf1_eoy['gp']/sf1_eoy['assets']\n",
    "sf1_eoy.dropna(inplace=True)"
   ]
  },
  {
   "cell_type": "markdown",
   "id": "95de9165",
   "metadata": {},
   "source": [
    "### 5.4 Adding Deciles"
   ]
  },
  {
   "cell_type": "markdown",
   "id": "6df6cdc8",
   "metadata": {},
   "source": [
    "Computing the stock ranks based on the gpoa ratio for the subsequent decomposition analysis. "
   ]
  },
  {
   "cell_type": "code",
   "execution_count": 32,
   "id": "8d912874",
   "metadata": {},
   "outputs": [],
   "source": [
    "sf1_eoy = sf1_eoy.set_index(['year', 'sid'])\n",
    "sf1_eoy['gpoa_decile'] = sf1_eoy.groupby('year').apply(lambda x: uv.calc_var_decile(x, 'gpoa'))\n",
    "sf1_eoy = sf1_eoy.reset_index()"
   ]
  },
  {
   "cell_type": "markdown",
   "id": "24307b52",
   "metadata": {},
   "source": [
    "<a id='section6'></a>\n",
    "## 6. Decomposing Big HML into High and Low GPOA"
   ]
  },
  {
   "cell_type": "markdown",
   "id": "4896ae13",
   "metadata": {},
   "source": [
    "This step explores and visualizes the structure of the Big HML growth and value portfolios via the GPOA deciles."
   ]
  },
  {
   "cell_type": "markdown",
   "id": "e198e190",
   "metadata": {},
   "source": [
    "### 6.1 Updating the End-Of-Year Features with GPOA Deciles"
   ]
  },
  {
   "cell_type": "markdown",
   "id": "1a282fe9",
   "metadata": {},
   "source": [
    "For decomposing the HML portfolios, their end-of-year features need to be merged with the gpoa deciles."
   ]
  },
  {
   "cell_type": "code",
   "execution_count": 33,
   "id": "707befd4",
   "metadata": {},
   "outputs": [
    {
     "name": "stdout",
     "output_type": "stream",
     "text": [
      "CPU times: user 16.6 ms, sys: 3.44 ms, total: 20 ms\n",
      "Wall time: 18.9 ms\n"
     ]
    }
   ],
   "source": [
    "%%time\n",
    "\n",
    "sf1_eoy.rename(columns = {'sid': 'asset'}, inplace=True)\n",
    "sf1_eoy['ffyear'] = sf1_eoy['year'] + 1\n",
    "\n",
    "features_eoy = pd.merge(features_eoy[['asset', 'ffyear', 'bp_decile', 'cap_decile']],\n",
    "                       sf1_eoy[['asset', 'ffyear', 'total_equity', 'equity_ratio', 'gpoa_decile']], \n",
    "                       how='left', on=['asset','ffyear'])"
   ]
  },
  {
   "cell_type": "markdown",
   "id": "faecfeb7",
   "metadata": {},
   "source": [
    "### 6.2 Area Plots"
   ]
  },
  {
   "cell_type": "markdown",
   "id": "14cedefd",
   "metadata": {},
   "source": [
    "Then, the GPOA-based decomposition can be transparently visualized via the corresponding area plots demonstrating temporal dynamics of the top 50% and bottom 50% GPOA-ranked assets within the big value and growth portfolios."
   ]
  },
  {
   "cell_type": "code",
   "execution_count": 34,
   "id": "6f3f3b31",
   "metadata": {},
   "outputs": [],
   "source": [
    "def get_asset_count(x, query):\n",
    "    return x.query(query)['asset'].count()"
   ]
  },
  {
   "cell_type": "code",
   "execution_count": 35,
   "id": "315a4050",
   "metadata": {},
   "outputs": [],
   "source": [
    "features_eoy = features_eoy.set_index(['ffyear'])"
   ]
  },
  {
   "cell_type": "code",
   "execution_count": 36,
   "id": "cac6aab1",
   "metadata": {},
   "outputs": [
    {
     "data": {
      "image/png": "[encoded data removed]",
      "text/plain": [
       "<Figure size 720x288 with 1 Axes>"
      ]
     },
     "metadata": {
      "needs_background": "light"
     },
     "output_type": "display_data"
    }
   ],
   "source": [
    "# Big Growth\n",
    "bg_area_plot = pd.DataFrame()\n",
    "bg_queries = uv.get_gpoa_queries('cap_decile > 5 and bp_decile < 4')\n",
    "\n",
    "for key in bg_queries:\n",
    "    bg_area_plot[key] = features_eoy.groupby('ffyear').apply(lambda x: get_asset_count(x, bg_queries[key]))\n",
    "\n",
    "bg_colors = {'NCI': 'r', 'High GPOA': 'lime', 'Low GPOA': 'g'}\n",
    "ax = bg_area_plot.plot.area(figsize=(10, 4), color=bg_colors, alpha=0.4)\n",
    "ax.set_ylabel('Assets')\n",
    "ax.set_xlabel(None)\n",
    "ax.legend(loc='upper left')\n",
    "ax.margins(x=0)"
   ]
  },
  {
   "cell_type": "code",
   "execution_count": 37,
   "id": "6b669705",
   "metadata": {},
   "outputs": [
    {
     "data": {
      "image/png": "[encoded data removed]",
      "text/plain": [
       "<Figure size 720x288 with 1 Axes>"
      ]
     },
     "metadata": {
      "needs_background": "light"
     },
     "output_type": "display_data"
    }
   ],
   "source": [
    "# Big Value\n",
    "bv_area_plot = pd.DataFrame()\n",
    "bv_queries = uv.get_gpoa_queries('cap_decile > 5 and bp_decile > 7')\n",
    "\n",
    "for key in bv_queries:\n",
    "    bv_area_plot[key] = features_eoy.groupby('ffyear').apply(lambda x: get_asset_count(x, bv_queries[key]))\n",
    "\n",
    "bv_colors = {'NCI': 'r', 'High GPOA': 'b', 'Low GPOA': 'dodgerblue'}\n",
    "ax = bv_area_plot.plot.area(figsize=(10, 4), color=bv_colors, alpha=0.4)\n",
    "ax.set_ylabel('Assets')\n",
    "ax.set_xlabel(None)\n",
    "ax.legend(loc='upper left')\n",
    "ax.margins(x=0)"
   ]
  },
  {
   "cell_type": "code",
   "execution_count": 38,
   "id": "f2bb2b5a",
   "metadata": {},
   "outputs": [],
   "source": [
    "features_eoy = features_eoy.reset_index()"
   ]
  },
  {
   "cell_type": "markdown",
   "id": "02f6064d",
   "metadata": {},
   "source": [
    "As shown by the above area plots, big growth (winners) are mostly formed from stocks with a high GPOA rank while the high book-to-market value portfolio is mostly composed of low GPOA stocks. Importanly, the portfolio composition remains relatively stable through the entire interval."
   ]
  },
  {
   "cell_type": "code",
   "execution_count": null,
   "id": "dd4ea81e",
   "metadata": {},
   "outputs": [],
   "source": []
  }
 ],
 "metadata": {
  "kernelspec": {
   "display_name": "Python 3 (ipykernel)",
   "language": "python",
   "name": "python3"
  },
  "language_info": {
   "codemirror_mode": {
    "name": "ipython",
    "version": 3
   },
   "file_extension": ".py",
   "mimetype": "text/x-python",
   "name": "python",
   "nbconvert_exporter": "python",
   "pygments_lexer": "ipython3",
   "version": "3.7.11"
  }
 },
 "nbformat": 4,
 "nbformat_minor": 5
}
